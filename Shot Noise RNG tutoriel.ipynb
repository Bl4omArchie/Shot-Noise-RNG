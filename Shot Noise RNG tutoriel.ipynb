{
 "cells": [
  {
   "cell_type": "markdown",
   "metadata": {},
   "source": [
    "# Practical Project: a working randomness generation with Shot Noise RNG\n",
    "\n",
    "Hi all ! My last Pratical Project was about generating key-pair for RSA and for that, I used the urandom RNG for our random source. As I told you, with time we can improved the project by adding more self-made algorithm and this why we are going to create our own RNG ! \n",
    "Disclaimer: we here for learning and train ourself, this RNG isn't cryptographically secure !\n",
    "\n",
    "\n",
    "## Randomness generation\n",
    "\n",
    "This is the procedure for generating random bits:\n",
    "- a source of uncertainty, or source of entropy, provided by random number generators (RNGs)\n",
    "- a cryptographic algorithm to produce high-quality random bits from the source of entropy, Pseudo-Random Number Generators (PRNGs)\n",
    "\n",
    "\n",
    "\n",
    "## Random source: Shot Noise\n",
    "\n",
    "Shot noise are the number of photon occured in a pixel. \n",
    "\n",
    "Look at this picture and notice those tiny black points, there is the noise we looking for. \n",
    "![logo](https://upload.wikimedia.org/wikipedia/commons/thumb/4/42/Photon-noise.jpg/1280px-Photon-noise.jpg \"Shot Noise example\")\n",
    "\n",
    "\n",
    "# Acknowlegment\n",
    "\n",
    "- Cryptographic randomness: https://bl4omarchie.github.io/archX/pdf/THE-BOOK-cryptography.pdf\n",
    "- Tutorial for creating noise: https://medium.datadriveninvestor.com/how-to-create-awesome-noise-that-is-actually-real-cf178c9f0ae0\n",
    "\n"
   ]
  }
 ],
 "metadata": {
  "kernelspec": {
   "display_name": "Python 3",
   "language": "python",
   "name": "python3"
  },
  "language_info": {
   "codemirror_mode": {
    "name": "ipython",
    "version": 3
   },
   "file_extension": ".py",
   "mimetype": "text/x-python",
   "name": "python",
   "nbconvert_exporter": "python",
   "pygments_lexer": "ipython3",
   "version": "3.8.10"
  },
  "vscode": {
   "interpreter": {
    "hash": "e7370f93d1d0cde622a1f8e1c04877d8463912d04d973331ad4851f04de6915a"
   }
  }
 },
 "nbformat": 4,
 "nbformat_minor": 4
}
